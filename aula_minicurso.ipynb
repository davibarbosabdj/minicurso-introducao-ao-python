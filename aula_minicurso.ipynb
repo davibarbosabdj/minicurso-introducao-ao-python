{
 "cells": [
  {
   "cell_type": "markdown",
   "id": "10b48927-8090-49f3-85a0-149b762e2813",
   "metadata": {},
   "source": [
    "<img src='https://th.bing.com/th/id/R.a81ec894994b107448ec84f07feb0b6f?rik=AGEVK6UyAjUuPQ&riu=http%3a%2f%2fclipart-library.com%2fimages_k%2fpython-logo-transparent%2fpython-logo-transparent-9.png&ehk=CDexlAZjyQXRqtsTUdrBS2HDF%2fTK%2fcsRifoPtWrK2Es%3d&risl=&pid=ImgRaw&r=0' width='145px' style='float: right'>\n",
    "\n",
    "# <center><strong>Minicurso: Introdução à Programação em Python</strong></center>\n",
    "### <center>Projeto Engedados - UFC Campus Jardins de Anita Itapajé</center>\n",
    "\n",
    "---"
   ]
  },
  {
   "cell_type": "markdown",
   "id": "0ab46780-ff7c-4659-aef9-f5807588520d",
   "metadata": {},
   "source": [
    "#### **Visão geral da linguagem Python e suas principais características:**\n",
    "\n",
    "Python é uma linguagem de programação de alto nível, interpretada, dinâmica e versátil, criada por Guido van Rossum nos anos 90. Sua sintaxe clara e legível, aliada à ampla comunidade de desenvolvedores, tornou Python uma das linguagens mais populares do mundo. Entre suas principais características estão a simplicidade, flexibilidade e expressividade, o que torna Python ideal para diversos propósitos, como desenvolvimento web, ciência de dados, automação e muito mais. Sua vasta biblioteca padrão e bibliotecas de terceiros oferecem uma gama de recursos prontos para uso, tornando Python uma excelente escolha para iniciantes e profissionais experientes na programação.\n",
    "<br>\n",
    "#### **Python é uma das linguagens de programação mais requeridas e amplamente utilizadas atualmente por várias razões:**\n",
    "\n",
    "- **Simplicidade e Legibilidade**\n",
    "\n",
    "- **Versatilidade**\n",
    "\n",
    "- **Comunidade Ativa e Suporte**\n",
    "\n",
    "- **Biblioteca Padrão Abundante**\n",
    "\n",
    "- **Suporte Multiplataforma**\n",
    "\n",
    "- **Aplicações em Ciência de Dados e Inteligência Artificial**\n",
    "\n",
    "- **Ampla Aplicação em Desenvolvimento Web**\n",
    "\n",
    "Devido a todas essas características, Python se tornou a escolha preferida de muitos desenvolvedores, empresas e organizações que buscam uma linguagem poderosa, versátil e de fácil aprendizado para impulsionar suas iniciativas e projetos."
   ]
  },
  {
   "cell_type": "markdown",
   "id": "1e178865-5402-48ba-a58e-db1c2e354de8",
   "metadata": {},
   "source": [
    "#### **1. Instalação do Python:**\n",
    "O primeiro passo é instalar o interpretador Python em seu computador. O Python está disponível para várias plataformas, incluindo Windows, macOS e Linux. Acesse o site oficial do Python (www.python.org) e baixe a versão mais recente compatível com seu sistema operacional. O processo de instalação é simples e guiado, portanto, basta seguir as instruções fornecidas pela instalação.\n",
    "\n",
    "##### **1.1 Ambiente de Codificação:**\n",
    "Com o Python instalado, é hora de escolher um ambiente de codificação. Existem várias opções disponíveis, cada uma com suas vantagens. Para iniciantes, uma escolha popular é o IDLE (Python's Integrated Development and Learning Environment), que já é fornecido com a instalação do Python. O IDLE oferece uma interface simples para escrever, executar e depurar código Python. Além disso, você pode optar por IDEs (Ambientes de Desenvolvimento Integrados) mais completas, como o Visual Studio Code, PyCharm ou Jupyter Notebook, que fornecem recursos adicionais, como realce de sintaxe, depuração e integração com outras ferramentas.\n",
    "\n",
    "Com o ambiente de desenvolvimento configurado, estamos prontos para começar nossa jornada de aprendizado em Python. Agora, vamos avançar para os primeiros conceitos da linguagem e começar a criar nossos primeiros programas. Vamos lá!"
   ]
  },
  {
   "cell_type": "markdown",
   "id": "eb376dc8-1511-43ba-a179-6e1d7d4de896",
   "metadata": {},
   "source": [
    "#### **2. Saída de Dados: Utilização da Função print() para Exibir Informações na Tela**\n",
    "\n",
    "Em Python, a função print() é uma das ferramentas mais básicas e úteis para exibir informações na tela. Ela permite que os programadores apresentem mensagens, resultados e outros dados para o usuário. Vamos dar uma olhada em alguns exemplos simples de como usar a função print():"
   ]
  },
  {
   "cell_type": "code",
   "execution_count": 1,
   "id": "6d8b8bde-88d3-46df-b1b1-34587c1dc676",
   "metadata": {},
   "outputs": [],
   "source": [
    "# Exemplo 1: Exibindo uma mensagem simples\n",
    "\n",
    "\n",
    "# Exemplo 2: Exibindo o resultado de uma operação matemática\n",
    "\n",
   ]
  },
  {
   "cell_type": "markdown",
   "id": "3006b024-81de-42b1-adad-6a3f0a5f6c26",
   "metadata": {},
   "source": [
    "#### **3. Variáveis e Tipos de Dados Básicos: Inteiros, Strings e Booleanos**\n",
    "\n",
    "Em Python, as variáveis são utilizadas para armazenar dados que podem ser manipulados e modificados ao longo do programa. Uma característica interessante é que Python é uma linguagem de tipagem dinâmica, o que significa que o tipo da variável é inferido automaticamente a partir do valor atribuído a ela. Vamos explorar com mais detalhes os principais tipos de dados básicos:\n",
    "\n",
    "- **Inteiros (int):** Os inteiros representam números inteiros, positivos ou negativos, sem parte decimal. Eles são usados para realizar cálculos matemáticos e armazenar valores inteiros."
   ]
  },
  {
   "cell_type": "code",
   "execution_count": 2,
   "id": "8892b329-5e95-4c06-9bfd-5c987eb20194",
   "metadata": {},
   "outputs": [],
   "source": [
    "# Exemplo 1: Variável e Inteiro\n",
    "\n",
    "\n",
    "# Exemplo 2: Operações Matemáticas\n",
    "\n"
   ]
  },
  {
   "cell_type": "markdown",
   "id": "3c6586a5-9934-44e7-9be1-6d9387680166",
   "metadata": {},
   "source": [
    "- **Números de Ponto Flutuante (float):** Os números de ponto flutuante são utilizados para representar valores com parte decimal. Eles são usados em cálculos que envolvem números fracionários."
   ]
  },
  {
   "cell_type": "code",
   "execution_count": 3,
   "id": "73cfc15c-fcfc-4e16-a050-a459b0d84f79",
   "metadata": {},
   "outputs": [],
   "source": [
    "# Exemplo 3: Variável e Número de Ponto Flutuante\n"
   ]
  },
  {
   "cell_type": "markdown",
   "id": "7b74faa0-9e70-44ed-95ac-5d45da627c8a",
   "metadata": {},
   "source": [
    "- **Strings (str):** As strings representam sequências de caracteres, como texto, nomes ou frases. Elas são definidas entre aspas simples (' ') ou aspas duplas (\" \")."
   ]
  },
  {
   "cell_type": "code",
   "execution_count": 4,
   "id": "3c16462b-57cb-40bf-9666-7ecbc467dd2a",
   "metadata": {},
   "outputs": [],
   "source": [
    "# Exemplo 4: Variável e String\n",
    "\n",
    "\n",
    "# Exemplo 5: Concatenação de Strings\n",
    "\n"
   ]
  },
  {
   "cell_type": "markdown",
   "id": "d2fc2310-da08-4939-821a-f84264f1d6bb",
   "metadata": {},
   "source": [
    "- **Booleanos (bool):** Os valores booleanos representam apenas duas possibilidades: Verdadeiro (True) ou Falso (False). Eles são frequentemente usados em estruturas de decisão e loops para controlar o fluxo do programa."
   ]
  },
  {
   "cell_type": "code",
   "execution_count": 5,
   "id": "86b63161-1ccb-4f9f-9eda-d80880ff797e",
   "metadata": {},
   "outputs": [],
   "source": [
    "# Exemplo 6: Variável e Booleano\n",
    "\n",
    "\n",
    "# Exemplo 7: Estrutura de Decisão com Booleanos\n",
    "\n"
   ]
  },
  {
   "cell_type": "markdown",
   "id": "6aff7032-8337-47c0-aa19-ff15f9c7e657",
   "metadata": {
    "tags": []
   },
   "source": [
    "#### **4. Estruturas de Dados**\n",
    "\n",
    "As estruturas de dados são elementos fundamentais na programação que nos permitem organizar e armazenar conjuntos de valores de maneira eficiente. Python oferece diversas estruturas de dados que são amplamente utilizadas para resolver problemas e manipular informações em nossos programas. Nesta seção, exploraremos três das estruturas mais importantes: listas, tuplas e dicionários. Veremos como criá-las, manipulá-las e iterar sobre seus elementos.\n",
    "\n",
    "**Listas: Criação, Manipulação e Iteração**\n",
    "\n",
    "As listas são coleções ordenadas de elementos em Python, permitindo armazenar múltiplos valores em uma única variável. Elas podem conter elementos de diferentes tipos, como números, strings e até mesmo outras listas. As listas são mutáveis, o que significa que podemos adicionar, remover e alterar seus elementos após a criação.\n",
    "\n",
    "Para criar uma lista, utilizamos colchetes ```[]``` e separamos os elementos por vírgulas.\n"
   ]
  },
  {
   "cell_type": "code",
   "execution_count": 6,
   "id": "766b7b6c-59bf-4582-89ad-4be593125ead",
   "metadata": {},
   "outputs": [],
   "source": [
    "# Criação de uma lista de frutas\n"
   ]
  },
  {
   "cell_type": "code",
   "execution_count": 7,
   "id": "0358a2c8-a1f0-4cc3-bec0-b86d19a8855e",
   "metadata": {},
   "outputs": [],
   "source": [
    "# Imprimindo a lista Frutas\n"
   ]
  },
  {
   "cell_type": "code",
   "execution_count": 8,
   "id": "97c56a48-75af-4e58-a693-6fc68fea52ce",
   "metadata": {},
   "outputs": [],
   "source": [
    "# Criação de uma lista com elementos diferentes \n"
   ]
  },
  {
   "cell_type": "code",
   "execution_count": 9,
   "id": "21268740-a502-4522-a279-0d2644b21158",
   "metadata": {},
   "outputs": [],
   "source": [
    "# Imprimindo a lista\n"
   ]
  },
  {
   "cell_type": "markdown",
   "id": "d0aaf25b-b581-4538-8a6a-2bfdc8ed11de",
   "metadata": {},
   "source": [
    "**Uma vez criada a lista, podemos realizar diversas operações com ela:** <br>\n",
    "\n",
    "\n",
    "- **Adicionar elementos:** Utilizamos o método append() para adicionar um novo elemento ao final da lista."
   ]
  },
  {
   "cell_type": "code",
   "execution_count": null,
   "id": "27555005-f347-4cc2-858d-2ae7c48618d3",
   "metadata": {},
   "outputs": [],
   "source": []
  },
  {
   "cell_type": "markdown",
   "id": "d85e6b73-e1d3-4556-9d8c-9c6c0b264176",
   "metadata": {},
   "source": [
    "- **Método extend():** adiciona os elementos de uma lista ao final de outra lista."
   ]
  },
  {
   "cell_type": "code",
   "execution_count": null,
   "id": "02306046-6a9f-44a9-be10-c3a2051639a6",
   "metadata": {},
   "outputs": [],
   "source": []
  },
  {
   "cell_type": "markdown",
   "id": "2f89576d-71bb-4d1d-bb6d-5b2d79982599",
   "metadata": {},
   "source": [
    "- **Método insert():** adiciona um elemento em uma posição específica da lista."
   ]
  },
  {
   "cell_type": "code",
   "execution_count": null,
   "id": "e9177a70-3e7b-4a2a-93fb-47b77462d42a",
   "metadata": {},
   "outputs": [],
   "source": []
  },
  {
   "cell_type": "markdown",
   "id": "85e8b349-9486-458c-93b8-134a0b51e820",
   "metadata": {},
   "source": [
    "- **Remover elementos:** Utilizamos o método remove() para remover um elemento específico da lista."
   ]
  },
  {
   "cell_type": "code",
   "execution_count": null,
   "id": "2ed8ed9e-3243-45d9-963a-84cf75e9aede",
   "metadata": {},
   "outputs": [],
   "source": []
  },
  {
   "cell_type": "markdown",
   "id": "8ea2adad-d891-4c88-9e3d-79e5db9e4ba1",
   "metadata": {},
   "source": [
    "- **Método pop():** remove um elemento da lista com base em sua posição (índice) e retorna o valor desse elemento."
   ]
  },
  {
   "cell_type": "code",
   "execution_count": null,
   "id": "ae7e9c70-4412-41b3-954f-e888bb64ef6f",
   "metadata": {},
   "outputs": [],
   "source": []
  },
  {
   "cell_type": "markdown",
   "id": "f5d69379-95bd-4598-a161-a8f19ac855d5",
   "metadata": {},
   "source": [
    "- **Alterar elementos:** Através da indexação, podemos alterar o valor de um elemento existente na lista."
   ]
  },
  {
   "cell_type": "code",
   "execution_count": null,
   "id": "d924ac54-13b3-49a9-aa1a-fbdb8d4023b7",
   "metadata": {},
   "outputs": [],
   "source": []
  },
  {
   "cell_type": "markdown",
   "id": "8911af6f-6582-43cd-bb50-9f9d73c808d9",
   "metadata": {},
   "source": [
    "Além disso, as listas também suportam a iteração por meio de loops. Por exemplo, podemos usar um loop for para percorrer todos os elementos da lista:"
   ]
  },
  {
   "cell_type": "code",
   "execution_count": null,
   "id": "9736b4d8-e28c-4ca8-867a-3c70830021ee",
   "metadata": {},
   "outputs": [],
   "source": []
  },
  {
   "cell_type": "markdown",
   "id": "00f2c48c-bb4c-4728-bfe1-a29f65c4eb27",
   "metadata": {},
   "source": [
    "**Tuplas: Conceito e Uso**\n",
    "\n",
    "As tuplas também são coleções ordenadas de elementos em Python, porém, ao contrário das listas, elas são imutáveis, o que significa que seus elementos não podem ser alterados após a criação. As tuplas são indicadas por parênteses () e são úteis para armazenar conjuntos de valores que não precisam ser modificados.\n",
    "\n",
    "Para criar uma tupla, utilizamos parênteses e separamos os elementos por vírgulas:"
   ]
  },
  {
   "cell_type": "code",
   "execution_count": 10,
   "id": "95781c19-4806-4180-9eca-75d1650443d8",
   "metadata": {},
   "outputs": [],
   "source": [
    "# Criação de uma tupla de coordenadas\n"
   ]
  },
  {
   "cell_type": "markdown",
   "id": "01130fbf-2cee-4612-8a2b-7911162a41f9",
   "metadata": {},
   "source": [
    "Embora as tuplas sejam imutáveis, podemos realizar algumas operações com elas, como a indexação para acessar seus elementos:"
   ]
  },
  {
   "cell_type": "code",
   "execution_count": null,
   "id": "3ec52338-565c-4c73-a72c-23b1e90a24c4",
   "metadata": {},
   "outputs": [],
   "source": []
  },
  {
   "cell_type": "code",
   "execution_count": null,
   "id": "180fedb0-811c-467c-a121-ff62adaad9f5",
   "metadata": {},
   "outputs": [],
   "source": []
  },
  {
   "cell_type": "code",
   "execution_count": null,
   "id": "d2004f56-8716-4b5f-bbbb-dfa7313a7ff5",
   "metadata": {},
   "outputs": [],
   "source": []
  },
  {
   "cell_type": "code",
   "execution_count": null,
   "id": "48e45ee1-cfec-4117-a0a8-68b2265c25fc",
   "metadata": {},
   "outputs": [],
   "source": []
  },
  {
   "cell_type": "markdown",
   "id": "ce2951f9-c349-4b1b-ac4c-047645508906",
   "metadata": {},
   "source": [
    "**Dicionários: Estrutura Chave-Valor e Acesso aos Elementos**\n",
    "\n",
    "Os dicionários são estruturas de dados que armazenam elementos em pares chave-valor, permitindo associar valores a chaves específicas. Eles são indicados por chaves {} e são úteis para representar informações estruturadas.\n",
    "\n",
    "Para criar um dicionário, utilizamos chaves e separamos os pares chave-valor por dois-pontos:"
   ]
  },
  {
   "cell_type": "code",
   "execution_count": 11,
   "id": "08b42aee-e39c-4c76-81ce-7c0476ab60e4",
   "metadata": {},
   "outputs": [],
   "source": [
    "# Criação de um dicionário com dados de uma pessoa\n",
    "\n"
   ]
  },
  {
   "cell_type": "markdown",
   "id": "8b4db552-c98c-41c6-9d62-c0b5eb5fe432",
   "metadata": {},
   "source": [
    "Para acessar os elementos do dicionário, utilizamos a chave correspondente:"
   ]
  },
  {
   "cell_type": "code",
   "execution_count": null,
   "id": "c5da9bbd-b006-4b77-b08b-33fcdb9d42e9",
   "metadata": {},
   "outputs": [],
   "source": []
  },
  {
   "cell_type": "code",
   "execution_count": 12,
   "id": "d3773a60-8b44-486a-aa26-f2f6cfc25507",
   "metadata": {},
   "outputs": [],
   "source": [
    "# Adicionando um item ao dicionario \n",
    "\n"
   ]
  },
  {
   "cell_type": "code",
   "execution_count": 13,
   "id": "e81c7ea6-f8b4-444c-884d-bbc6c815f906",
   "metadata": {},
   "outputs": [],
   "source": [
    "# Atulizando o dicionario\n",
    "\n"
   ]
  },
  {
   "cell_type": "code",
   "execution_count": null,
   "id": "fd216e1f-4bee-41c4-8667-dfa2bfeba53d",
   "metadata": {},
   "outputs": [],
   "source": []
  },
  {
   "cell_type": "code",
   "execution_count": 14,
   "id": "d5c39930-9f92-4779-bfeb-d1d2392daf07",
   "metadata": {},
   "outputs": [],
   "source": [
    "# Remover todos os itens do dicionario \n"
   ]
  },
  {
   "cell_type": "code",
   "execution_count": 15,
   "id": "613aed38-2011-4d94-83b8-a08488bdd429",
   "metadata": {},
   "outputs": [],
   "source": [
    "# Deleta o dicionario \n"
   ]
  },
  {
   "cell_type": "markdown",
   "id": "b3840e4f-bb7b-460a-b351-80a70dc6bc53",
   "metadata": {
    "tags": []
   },
   "source": [
    "#### **5. Estruturas de Controle**\n",
    "\n",
    "As estruturas de controle são fundamentais na programação, pois permitem que os programas tomem decisões e repitam tarefas de forma automatizada. Nesta seção, vamos explorar duas estruturas de controle essenciais: as estruturas de decisão e os loops. Vamos aprender como usar os comandos if, else, elif, while e for para criar programas mais poderosos e flexíveis.\n",
    "\n",
    "#### Introdução às Estruturas de Decisão: Utilização dos Comandos if, else e elif\n",
    "\n",
    "A estrutura de decisão if é usada para avaliar uma condição e, caso ela seja verdadeira, executar um bloco de código associado. Se a condição não for satisfeita, é possível fornecer uma alternativa usando o comando else. Além disso, o comando elif (abreviação de \"else if\") permite testar várias condições em sequência, executando o bloco correspondente à primeira condição verdadeira encontrada."
   ]
  },
  {
   "cell_type": "code",
   "execution_count": 16,
   "id": "63f39412-9d67-4251-b62c-da8a255cccc3",
   "metadata": {},
   "outputs": [],
   "source": [
    "# Exemplo 1: Utilização do if e else\n"
   ]
  },
  {
   "cell_type": "markdown",
   "id": "4fe282e4-6766-4ba0-9c9b-7e818d07b7a8",
   "metadata": {
    "tags": []
   },
   "source": [
    "#### Introdução aos Loops: Utilização dos Comandos while e for\n",
    "\n",
    "Os loops são estruturas que permitem que um bloco de código seja repetidamente executado enquanto uma condição for verdadeira (while) ou para cada elemento de uma sequência (for). Essas estruturas são especialmente úteis para realizar tarefas repetitivas sem repetir o mesmo código várias vezes."
   ]
  },
  {
   "cell_type": "code",
   "execution_count": 17,
   "id": "069c0f8c-8445-4d8d-877a-7f938d88839e",
   "metadata": {},
   "outputs": [],
   "source": [
    "# Exemplo 3: Utilização do while\n"
   ]
  },
  {
   "cell_type": "markdown",
   "id": "1ac87cd4-61bd-4140-ab02-9dee55a578bc",
   "metadata": {},
   "source": [
    "#### **Projeto Prático: Construção de uma Calculadora Interativa**\n",
    "\n",
    "Nesta seção final do nosso minicurso de \"Introdução à Programação em Python\", chegou a hora de colocar em prática todo o conhecimento adquirido. Vamos mergulhar de cabeça na construção de um projeto prático empolgante: uma calculadora interativa.\n",
    "\n",
    "Ao longo das nossas aulas, você explorou os princípios fundamentais da programação, desde os conceitos iniciais até as estruturas de decisão e loops. Agora, é o momento de unir esses conhecimentos para criar uma aplicação real.\n",
    "\n",
    "Neste projeto, você terá a oportunidade de desenvolver uma calculadora versátil que permitirá a realização de operações matemáticas básicas, como soma, subtração, multiplicação e divisão. Além disso, você aplicará as estruturas de controle que aprendeu para garantir que a calculadora funcione de maneira suave e eficaz.\n",
    "\n",
    "Você usará os comandos `if`, `else`, `elif`, `while` e `for` para implementar as funcionalidades necessárias e oferecer uma experiência interativa aos usuários. O projeto permitirá que você exercite sua criatividade na resolução de problemas e aplique as habilidades recém-adquiridas em um contexto prático.\n",
    "\n",
    "Lembre-se de que, ao concluir este projeto, você estará não apenas consolidando sua compreensão da programação em Python, mas também criando uma aplicação funcional que demonstra suas habilidades aos colegas e ao mercado. Divirta-se construindo sua calculadora e aproveite a jornada de aprendizado!\n"
   ]
  },
  {
   "cell_type": "code",
   "execution_count": null,
   "id": "4a7172e5-3fd5-43bb-8072-969097c74edd",
   "metadata": {
    "tags": []
   },
   "outputs": [],
   "source": [
    "while True:\n",
    "    print(\"\\nCalculadora - Escolha uma opção:\")\n",
    "    print(\"1. Soma\")\n",
    "    print(\"2. Subtração\")\n",
    "    print(\"3. Multiplicação\")\n",
    "    print(\"4. Divisão\")\n",
    "    print(\"5. Sair\")\n",
    "\n",
    "    opcao = input(\"Digite o número da opção desejada: \")\n",
    "\n",
    "    if opcao == '5':\n",
    "        print(\"Encerrando a calculadora.\")\n",
    "        break\n",
    "    \n",
    "    if opcao in ('1', '2', '3', '4'):\n",
    "        num1 = float(input(\"Digite o primeiro número: \"))\n",
    "        num2 = float(input(\"Digite o segundo número: \"))\n",
    "        "
   ]
  }
 ],
 "metadata": {
  "kernelspec": {
   "display_name": "Python 3 (ipykernel)",
   "language": "python",
   "name": "python3"
  },
  "language_info": {
   "codemirror_mode": {
    "name": "ipython",
    "version": 3
   },
   "file_extension": ".py",
   "mimetype": "text/x-python",
   "name": "python",
   "nbconvert_exporter": "python",
   "pygments_lexer": "ipython3",
   "version": "3.10.9"
  }
 },
 "nbformat": 4,
 "nbformat_minor": 5
}
